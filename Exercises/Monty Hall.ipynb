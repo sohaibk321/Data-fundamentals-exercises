{
 "cells": [
  {
   "cell_type": "markdown",
   "metadata": {},
   "source": [
    "P(A | B) = P(B | A) * P(A) / P(B)\n",
    "A = stick to door 1\n",
    "B = option of door 2\n",
    "\n",
    "P(prize at door 2 | goat at door 1) * P(Prize)\n",
    "--------------------------------------------------------------------------------------------------------\n",
    "P(prize) * P(prize at door 2 | goat at door 1) + P(not prize) * P(not prize at door 1 | door 3 opens)\n",
    "\n",
    "1/3 * 1/2\n",
    "-------------------- = 1/3\n",
    "(1/3*1/2 + 2/3*1/2)\n",
    "\n",
    "1/3 probability that the prize is in door 1 given that door 2 opened.\n",
    "After this conditional event, the sum of all probabilities is 1, so 1-1/3 = 2/3. There is a 2/3 probability of the prize being at the door we didn't pick if the host opens door 2 to reveal a goat. In conclusion, it is more beneficial to switch choices given that after your initial choice the host decides to open a room with a goat. \n"
   ]
  }
 ],
 "metadata": {
  "kernelspec": {
   "display_name": "Python 3",
   "language": "python",
   "name": "python3"
  },
  "language_info": {
   "codemirror_mode": {
    "name": "ipython",
    "version": 3
   },
   "file_extension": ".py",
   "mimetype": "text/x-python",
   "name": "python",
   "nbconvert_exporter": "python",
   "pygments_lexer": "ipython3",
   "version": "3.6.3"
  }
 },
 "nbformat": 4,
 "nbformat_minor": 2
}
