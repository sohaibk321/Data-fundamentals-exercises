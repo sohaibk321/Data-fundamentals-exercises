{
 "cells": [
  {
   "cell_type": "markdown",
   "metadata": {},
   "source": [
    "Intuition\n",
    "\n",
    "\n",
    "Positive: .98\n",
    "\n",
    "Correctly diagnose a sufferer of Thripshaw's: .00005\n",
    "\n",
    "Correctly identify a non-sufferer of Thripshaw's: .02\n",
    "\n",
    "Misclassify the person: .94"
   ]
  },
  {
   "cell_type": "markdown",
   "metadata": {},
   "source": [
    "P(A | B) = P(B | A) * P(A) / P(B)\n",
    "\n",
    "P(B) = [ P(A) * P(B | A) + P(A~) * P(B | A~) ]\n",
    "\n",
    "P(Infected | Positive Test) = P(Positive Test | Infected) * P(Infected) / P(Positive Test)\n",
    "\n",
    "P(Positive Test) = ( P(Infected) * P(Positive Test | Infected) + P(Not Infected) * P(Positive Test | Not Infected) )\n",
    "\n",
    "Probabilities:\n",
    "\n",
    "P(Infected) = .005\n",
    "P(Positive Test | Infected) = .98\n",
    "P(Not Infected) = .995\n",
    "P(Positive Test | Not Infected) = .1\n",
    "\n",
    "Calculations\n",
    "\n",
    "P(Infected | Positive Test) = .98 * .005 / (.005 * 98 + .995 * .1) = 0.008312 or .8312% chance that one is infected given a positive test\n",
    "\n",
    "Positive Test: (.005 * 98 + .995 * .1) = .1044\n",
    "\n",
    "Correctly diagnose a sufferer of Thripshaw's: .8312 (should be .98)\n",
    "\n",
    "Correctly identify a non-sufferer of Thripshaw's: 0.0995 should be .9\n",
    "\n",
    "Misclassify the person: .94 should be .0995"
   ]
  },
  {
   "cell_type": "code",
   "execution_count": null,
   "metadata": {
    "collapsed": true
   },
   "outputs": [],
   "source": []
  }
 ],
 "metadata": {
  "kernelspec": {
   "display_name": "Python 3",
   "language": "python",
   "name": "python3"
  },
  "language_info": {
   "codemirror_mode": {
    "name": "ipython",
    "version": 3
   },
   "file_extension": ".py",
   "mimetype": "text/x-python",
   "name": "python",
   "nbconvert_exporter": "python",
   "pygments_lexer": "ipython3",
   "version": "3.6.3"
  }
 },
 "nbformat": 4,
 "nbformat_minor": 2
}
