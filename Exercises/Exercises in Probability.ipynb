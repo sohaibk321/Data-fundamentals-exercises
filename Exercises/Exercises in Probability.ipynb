{
 "cells": [
  {
   "cell_type": "markdown",
   "metadata": {},
   "source": [
    "Q1\n",
    "\n",
    "\n",
    "\n",
    "\n",
    "\n",
    "HTTH: 1/2 * 1/2 * 1/2 *1/2 = 1/16\n",
    "HHHH: 1/2 * 1/2 * 1/2 *1/2 = 1/16\n",
    "TTHH: 1/2 * 1/2 * 1/2 *1/2 = 1/16\n",
    "\n",
    "The filps in a coin toss are unconditional variables, meaning that previous events don't affect the probability of future events. So, the probability of each event is multiplied to give the final answer."
   ]
  },
  {
   "cell_type": "markdown",
   "metadata": {},
   "source": [
    "Q2\n",
    "\n",
    "\n",
    "The probability is 24/45 as the probability of not choosing a man means we must choose a women, so we just divide the number of women by the total population to get the final answer"
   ]
  },
  {
   "cell_type": "markdown",
   "metadata": {},
   "source": [
    "Q3: Plane crash\n",
    "\n",
    "P = P(Bernice_on_a_plane) * P(Plane crashes) = .01 * .00005 * 100= .00005% chance Bernice will be in a plane crash in the next year"
   ]
  },
  {
   "cell_type": "markdown",
   "metadata": {},
   "source": [
    "Q4: \n",
    "    \n",
    "The survey only shows up 5% of the time when someone clicks on a link in the website. This exludes the behaviors of a lot of people that only show up to one page on the website and don't click on links to get a chance to answer the survey. And the few people that do get the survey might not even want to answer the survey, so what the study might be concluding about the population might only apply to the few subset that were sampled instead. "
   ]
  },
  {
   "cell_type": "code",
   "execution_count": null,
   "metadata": {
    "collapsed": true
   },
   "outputs": [],
   "source": []
  }
 ],
 "metadata": {
  "kernelspec": {
   "display_name": "Python 3",
   "language": "python",
   "name": "python3"
  },
  "language_info": {
   "codemirror_mode": {
    "name": "ipython",
    "version": 3
   },
   "file_extension": ".py",
   "mimetype": "text/x-python",
   "name": "python",
   "nbconvert_exporter": "python",
   "pygments_lexer": "ipython3",
   "version": "3.6.3"
  }
 },
 "nbformat": 4,
 "nbformat_minor": 2
}
