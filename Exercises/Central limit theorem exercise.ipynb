{
 "cells": [
  {
   "cell_type": "code",
   "execution_count": 66,
   "metadata": {},
   "outputs": [],
   "source": [
    "import numpy as np\n",
    "import matplotlib.pyplot as plt\n",
    "import pandas as pd\n",
    "from scipy.stats import ttest_ind\n",
    "%matplotlib inline"
   ]
  },
  {
   "cell_type": "code",
   "execution_count": 67,
   "metadata": {},
   "outputs": [],
   "source": [
    "pop1 = np.random.binomial(n=10, p=0.2, size=10000)\n",
    "pop2 = np.random.binomial(10, 0.5, 10000)\n",
    "sample1 = np.random.choice(pop1, 100, replace=True)\n",
    "sample2 = np.random.choice(pop2, 100, replace=True)"
   ]
  },
  {
   "cell_type": "code",
   "execution_count": 68,
   "metadata": {},
   "outputs": [
    {
     "name": "stdout",
     "output_type": "stream",
     "text": [
      "Sample 1 mean: 1.86\n",
      "Sample 1 std: 1.2650691680694774\n",
      "Sample 2 mean: 5.38\n",
      "Sample 2 std: 1.4681961721786365\n"
     ]
    }
   ],
   "source": [
    "print(\"Sample 1 mean: {}\".format(np.mean(sample1)))\n",
    "print(\"Sample 1 std: {}\".format(np.std(sample1)))\n",
    "print(\"Sample 2 mean: {}\".format(np.mean(sample2)))\n",
    "print(\"Sample 2 std: {}\".format(np.std(sample2)))"
   ]
  },
  {
   "cell_type": "markdown",
   "metadata": {},
   "source": [
    "Question 1"
   ]
  },
  {
   "cell_type": "code",
   "execution_count": 69,
   "metadata": {},
   "outputs": [
    {
     "name": "stdout",
     "output_type": "stream",
     "text": [
      "When n=1000 mean: 2.004\n",
      "When n=1000 std: 1.2821793946246367\n",
      "When n=1000 mean: 4.965\n",
      "When n=1000 std: 1.6167173531573167\n"
     ]
    }
   ],
   "source": [
    "sample1_1 = np.random.choice(pop1, 1000, replace=True)\n",
    "sample2_1 = np.random.choice(pop2, 1000, replace=True)\n",
    "print(\"When n=1000 mean: {}\".format(np.mean(sample1_1)))\n",
    "print(\"When n=1000 std: {}\".format(np.std(sample1_1)))\n",
    "print(\"When n=1000 mean: {}\".format(np.mean(sample2_1)))\n",
    "print(\"When n=1000 std: {}\".format(np.std(sample2_1)))"
   ]
  },
  {
   "cell_type": "code",
   "execution_count": 70,
   "metadata": {},
   "outputs": [
    {
     "data": {
      "image/png": "[encoded data removed]",
      "text/plain": [
       "<matplotlib.figure.Figure at 0x1c85d079240>"
      ]
     },
     "metadata": {},
     "output_type": "display_data"
    }
   ],
   "source": [
    "plt.title(\"Sample with n=1000\")\n",
    "plt.hist(sample1_1, alpha=0.5, label='Sample 1')\n",
    "plt.hist(sample2_1, alpha=0.5, label='Sample 2')\n",
    "plt.legend(loc='upper right')\n",
    "plt.show()"
   ]
  },
  {
   "cell_type": "code",
   "execution_count": 71,
   "metadata": {},
   "outputs": [
    {
     "name": "stdout",
     "output_type": "stream",
     "text": [
      "When n=20 mean: 2.2\n",
      "When n=20 std: 1.8055470085267789\n",
      "When n=20 mean: 5.15\n",
      "When n=20 std: 1.5256146302392357\n"
     ]
    }
   ],
   "source": [
    "sample1_2 = np.random.choice(pop1, 20, replace=True)\n",
    "sample2_2 = np.random.choice(pop2, 20, replace=True)\n",
    "print(\"When n=20 mean: {}\".format(np.mean(sample1_2)))\n",
    "print(\"When n=20 std: {}\".format(np.std(sample1_2)))\n",
    "print(\"When n=20 mean: {}\".format(np.mean(sample2_2)))\n",
    "print(\"When n=20 std: {}\".format(np.std(sample2_2)))"
   ]
  },
  {
   "cell_type": "code",
   "execution_count": 72,
   "metadata": {},
   "outputs": [
    {
     "data": {
      "image/png": "[encoded data removed]",
      "text/plain": [
       "<matplotlib.figure.Figure at 0x1c85ace4828>"
      ]
     },
     "metadata": {},
     "output_type": "display_data"
    }
   ],
   "source": [
    "plt.title(\"Sample with n=20\")\n",
    "plt.hist(sample1_2, alpha=0.5, label='Sample 1')\n",
    "plt.hist(sample2_2, alpha=0.5, label='Sample 2')\n",
    "plt.legend(loc='upper right')\n",
    "plt.show()"
   ]
  },
  {
   "cell_type": "markdown",
   "metadata": {},
   "source": [
    "The mean and standard deviations of the two samples with differeing populations are slightly different but not too far off. The standard deviaiton seems to be affected a bit more. The histograms of the larger sample seems to be more in line with a normal distribution as compared to the smaller sample distribution."
   ]
  },
  {
   "cell_type": "markdown",
   "metadata": {},
   "source": [
    "Question 2"
   ]
  },
  {
   "cell_type": "code",
   "execution_count": 73,
   "metadata": {},
   "outputs": [
    {
     "name": "stdout",
     "output_type": "stream",
     "text": [
      "Ttest_indResult(statistic=-1.0427151844084508, pvalue=0.29835216571279077)\n"
     ]
    }
   ],
   "source": [
    "#p = .3\n",
    "pop1 = np.random.binomial(n=10, p=0.3, size=10000)\n",
    "pop2 = np.random.binomial(10, 0.5, 10000)\n",
    "sample1_3 = np.random.choice(pop1, 100, replace=True)\n",
    "sample2_3 = np.random.choice(pop1, 100, replace=True)\n",
    "print(ttest_ind(sample2_3, sample1_3, equal_var=False))"
   ]
  },
  {
   "cell_type": "code",
   "execution_count": 74,
   "metadata": {},
   "outputs": [
    {
     "name": "stdout",
     "output_type": "stream",
     "text": [
      "Ttest_indResult(statistic=-0.2966113230621007, pvalue=0.76707469644965176)\n"
     ]
    }
   ],
   "source": [
    "#p = .4\n",
    "pop1 = np.random.binomial(n=10, p=0.4, size=10000)\n",
    "pop2 = np.random.binomial(10, 0.5, 10000)\n",
    "sample1_3 = np.random.choice(pop1, 100, replace=True)\n",
    "sample2_3 = np.random.choice(pop1, 100, replace=True)\n",
    "print(ttest_ind(sample2_3, sample1_3, equal_var=False))"
   ]
  },
  {
   "cell_type": "markdown",
   "metadata": {},
   "source": [
    "The p-value for when p=.4 gets closer to 1, so as the two populations get more similar, the two populations become less different. Overall, the t-value shrinks and the p-value grows in size."
   ]
  },
  {
   "cell_type": "markdown",
   "metadata": {},
   "source": [
    "Question 3"
   ]
  },
  {
   "cell_type": "code",
   "execution_count": 75,
   "metadata": {
    "collapsed": true
   },
   "outputs": [],
   "source": [
    "pop = np.random.poisson(2.0, 10000)\n",
    "sample = np.random.choice(pop, 100, replace=True)"
   ]
  },
  {
   "cell_type": "code",
   "execution_count": 76,
   "metadata": {},
   "outputs": [
    {
     "name": "stdout",
     "output_type": "stream",
     "text": [
      "2.09\n",
      "1.55624548192\n",
      "Ttest_indResult(statistic=15.30027789126631, pvalue=2.3257683997666908e-35)\n"
     ]
    }
   ],
   "source": [
    "print(np.mean(sample))\n",
    "print(np.std(sample))\n",
    "print(ttest_ind(sample2, sample, equal_var=False))"
   ]
  },
  {
   "cell_type": "markdown",
   "metadata": {},
   "source": [
    "This should still work because according to the CLT, these comparisons can be made and statistics can be used if the sample size is large enough"
   ]
  }
 ],
 "metadata": {
  "kernelspec": {
   "display_name": "Python 3",
   "language": "python",
   "name": "python3"
  },
  "language_info": {
   "codemirror_mode": {
    "name": "ipython",
    "version": 3
   },
   "file_extension": ".py",
   "mimetype": "text/x-python",
   "name": "python",
   "nbconvert_exporter": "python",
   "pygments_lexer": "ipython3",
   "version": "3.6.3"
  }
 },
 "nbformat": 4,
 "nbformat_minor": 2
}
